{
 "cells": [
  {
   "cell_type": "code",
   "execution_count": null,
   "metadata": {
    "collapsed": false
   },
   "outputs": [],
   "source": [
    "import datetime\n",
    "\n",
    "# Third-party\n",
    "from astropy.io import ascii\n",
    "import astropy.coordinates as coord\n",
    "import astropy.units as u\n",
    "import astropy.time as at\n",
    "import matplotlib as mpl\n",
    "import matplotlib.pyplot as pl\n",
    "import numpy as np\n",
    "%matplotlib inline"
   ]
  },
  {
   "cell_type": "code",
   "execution_count": null,
   "metadata": {
    "collapsed": false
   },
   "outputs": [],
   "source": [
    "import astroplan\n",
    "from astroplan import Observer, FixedTarget\n",
    "from astropy.time import Time"
   ]
  },
  {
   "cell_type": "code",
   "execution_count": null,
   "metadata": {
    "collapsed": false
   },
   "outputs": [],
   "source": [
    "mdm = Observer.at_site(\"MDM\", timezone=\"America/Phoenix\")\n",
    "t1 = Time(datetime.datetime(2016, 2, 15, 18, 0, tzinfo=mdm.timezone))\n",
    "t2 = t1 + 12*u.hour\n",
    "time_range = Time([t1, t2])"
   ]
  },
  {
   "cell_type": "code",
   "execution_count": null,
   "metadata": {
    "collapsed": true
   },
   "outputs": [],
   "source": [
    "def coords_in_rect(c, corner_c):\n",
    "    if not c.frame.is_equivalent_frame(corner_c[0].frame):\n",
    "        raise ValueError(\"Frame mismatch.\")\n",
    "    \n",
    "    min_lon = corner_c[0].spherical.lon\n",
    "    min_lat = corner_c[0].spherical.lat\n",
    "    max_lon = corner_c[1].spherical.lon\n",
    "    max_lat = corner_c[1].spherical.lat\n",
    "    \n",
    "    return ((c.spherical.lon > min_lon) & (c.spherical.lon < max_lon) & \n",
    "            (c.spherical.lat > min_lat) & (c.spherical.lat < max_lat)) "
   ]
  },
  {
   "cell_type": "markdown",
   "metadata": {
    "collapsed": true
   },
   "source": [
    "---\n",
    "\n",
    "## How many GASS targets are there?"
   ]
  },
  {
   "cell_type": "code",
   "execution_count": null,
   "metadata": {
    "collapsed": false
   },
   "outputs": [],
   "source": [
    "css = ascii.read(\"/Users/adrian/projects/triand-rrlyrae/data/catalina.csv\")\n",
    "print(css.colnames)"
   ]
  },
  {
   "cell_type": "code",
   "execution_count": null,
   "metadata": {
    "collapsed": false
   },
   "outputs": [],
   "source": [
    "linear = ascii.read(\"/Users/adrian/projects/triand-rrlyrae/data/linear.csv\")\n",
    "print(linear.colnames)"
   ]
  },
  {
   "cell_type": "code",
   "execution_count": null,
   "metadata": {
    "collapsed": false
   },
   "outputs": [],
   "source": [
    "css_c = coord.SkyCoord(ra=css['ra']*u.deg, dec=css['dec']*u.deg, distance=css['helio_dist']*u.kpc)\n",
    "lin_c = coord.SkyCoord(ra=linear['ra']*u.deg, dec=linear['dec']*u.deg, distance=linear['helio_dist']*u.kpc)"
   ]
  },
  {
   "cell_type": "code",
   "execution_count": null,
   "metadata": {
    "collapsed": false
   },
   "outputs": [],
   "source": [
    "fig = pl.figure(figsize=(8,6))\n",
    "ax = fig.add_subplot(111)\n",
    "ax.plot(css_c.galactic.l.degree, css_c.galactic.b.degree, marker='.', ls='none', alpha=0.4)\n",
    "ax.plot(lin_c.galactic.l.degree, lin_c.galactic.b.degree, marker='.', ls='none', alpha=0.4)\n",
    "\n",
    "# GASS\n",
    "r = pl.Rectangle((100,15), 160, 15, zorder=-100, alpha=0.2, color='r')\n",
    "ax.add_patch(r)\n",
    "\n",
    "# A13\n",
    "r = pl.Rectangle((130,20), 50, 20, zorder=-100, alpha=0.2, color='g')\n",
    "ax.add_patch(r)\n",
    "\n",
    "ax.set_xlim(360, 0)"
   ]
  },
  {
   "cell_type": "markdown",
   "metadata": {},
   "source": [
    "### Filter by window on sky\n",
    "\n",
    "Window and distance range taken from Rocha-pinto (2003):\n",
    "http://iopscience.iop.org/article/10.1086/378668/pdf"
   ]
  },
  {
   "cell_type": "code",
   "execution_count": null,
   "metadata": {
    "collapsed": false
   },
   "outputs": [],
   "source": [
    "window_corners = [coord.SkyCoord(l=100*u.deg, b=15*u.deg,frame='galactic'), \n",
    "                  coord.SkyCoord(l=260*u.deg, b=35*u.deg,frame='galactic')]\n",
    "css_sky_window_ix = coords_in_rect(css_c.galactic, window_corners)\n",
    "lin_sky_window_ix = coords_in_rect(lin_c.galactic, window_corners)\n",
    "print(\"{} CSS targets, {} LINEAR targets in this window.\".format(css_sky_window_ix.sum(), lin_sky_window_ix.sum()))"
   ]
  },
  {
   "cell_type": "code",
   "execution_count": null,
   "metadata": {
    "collapsed": true
   },
   "outputs": [],
   "source": [
    "css_distance_ix = ((css_c.distance > 7*u.kpc) & (css_c.distance < 15.*u.kpc))"
   ]
  },
  {
   "cell_type": "code",
   "execution_count": null,
   "metadata": {
    "collapsed": false
   },
   "outputs": [],
   "source": [
    "gass_tbl = css[css_sky_window_ix & css_distance_ix] \n",
    "gass = coord.SkyCoord(l=gass_tbl['l']*u.deg, b=gass_tbl['b']*u.deg, \n",
    "                      distance=gass_tbl['helio_dist']*u.kpc, frame='galactic')"
   ]
  },
  {
   "cell_type": "code",
   "execution_count": null,
   "metadata": {
    "collapsed": false
   },
   "outputs": [],
   "source": [
    "print(\"{} GASS targets\".format(len(gass)))"
   ]
  },
  {
   "cell_type": "code",
   "execution_count": null,
   "metadata": {
    "collapsed": false
   },
   "outputs": [],
   "source": [
    "pl.figure(figsize=(10,6))\n",
    "pl.scatter(gass.l.degree, gass.b.degree, c=gass_tbl['VmagAvg'], marker='o')\n",
    "pl.plot(css_c.galactic.l.degree, css_c.galactic.b.degree, marker='.', ls='none')\n",
    "pl.plot(lin_c.galactic.l.degree, lin_c.galactic.b.degree, marker='.', ls='none')\n",
    "pl.xlim(260,100)\n",
    "pl.ylim(0,30)"
   ]
  },
  {
   "cell_type": "code",
   "execution_count": null,
   "metadata": {
    "collapsed": false
   },
   "outputs": [],
   "source": [
    "fig,axes = pl.subplots(1,2,figsize=(12,5))\n",
    "n,bins,pa = axes[0].hist(gass.distance, bins=np.linspace(5,20,15))\n",
    "axes[0].set_xlabel(\"Radial dist. [kpc]\")\n",
    "axes[0].set_xlim(bins.min(), bins.max())\n",
    "\n",
    "n,bins,pa = axes[1].hist(gass.galactocentric.represent_as(coord.CylindricalRepresentation).rho, bins=bins+8)\n",
    "axes[1].set_xlabel(\"Cylindrical dist. [kpc]\")\n",
    "axes[1].set_xlim(bins.min(), bins.max())\n",
    "\n",
    "axes[0].set_ylabel(\"Number RRL\")"
   ]
  },
  {
   "cell_type": "markdown",
   "metadata": {},
   "source": [
    "### Red circle below is brightness limit of Catalina"
   ]
  },
  {
   "cell_type": "code",
   "execution_count": null,
   "metadata": {
    "collapsed": false
   },
   "outputs": [],
   "source": [
    "fig,ax = pl.subplots(1,1,figsize=(6,6),subplot_kw =dict(polar=True))\n",
    "\n",
    "ax.add_artist(mpl.patches.Circle((-8.,0), radius=2.5, transform=ax.transData._b, facecolor='r', alpha=0.2))\n",
    "ax.add_artist(mpl.patches.Circle((-8.,0), radius=0.5, transform=ax.transData._b, facecolor='y', alpha=1.))\n",
    "\n",
    "gass_cyl = gass.galactocentric.represent_as(coord.CylindricalRepresentation)\n",
    "css_cyl = css_c.galactocentric.represent_as(coord.CylindricalRepresentation)\n",
    "\n",
    "ax.plot(css_cyl.phi.to(u.radian)[np.abs(css_cyl.z) < 5*u.kpc], \n",
    "        css_cyl.rho.to(u.kpc)[np.abs(css_cyl.z) < 5*u.kpc], \n",
    "        color='k', linestyle='none', marker='.', alpha=0.1)\n",
    "# ax.plot(gass_cyl.phi.to(u.radian), gass_cyl.rho.to(u.kpc), \n",
    "#         color='k', linestyle='none', marker='o')\n",
    "ax.scatter(gass_cyl.phi.to(u.radian), gass_cyl.rho.to(u.kpc), \n",
    "           c=gass_tbl['VmagAvg'], marker='o')\n",
    "\n",
    "ax.set_rmax(20.0)\n",
    "ax.grid(True)\n",
    "\n",
    "ticks = [5,10,15]\n",
    "ax.set_rticks(ticks)\n",
    "ax.set_yticklabels(['{0:d} kpc'.format(x) for x in ticks])\n",
    "ax.set_xlabel(\"Galactic Longitude\", labelpad=15)\n",
    "ax.tick_params(axis='y', labelsize=20)\n",
    "# fig.savefig(\"/Users/adrian/papers/proposals/MDM-2015/GASS.pdf\")\n",
    "\n",
    "# ------\n",
    "fig,ax = pl.subplots(1,1,figsize=(7,6))\n",
    "\n",
    "gass_cyl = gass.galactocentric.represent_as(coord.CylindricalRepresentation)\n",
    "css_cyl = css_c.galactocentric.represent_as(coord.CylindricalRepresentation)\n",
    "\n",
    "ax.plot(css_cyl.rho.to(u.kpc), \n",
    "        css_cyl.z.to(u.kpc), \n",
    "        color='k', linestyle='none', marker='.', alpha=0.25)\n",
    "cc = ax.scatter(gass_cyl.rho.to(u.kpc), \n",
    "                gass_cyl.z.to(u.kpc), \n",
    "                c=gass_tbl['VmagAvg'], marker='o')\n",
    "ax.set_xlim(0,25)\n",
    "ax.set_ylim(-12.5,12.5)\n",
    "ax.set_xlabel(\"R [kpc]\")\n",
    "ax.set_ylabel(\"z [kpc]\")\n",
    "fig.colorbar(cc)\n",
    "\n",
    "# ticks = [10,20]\n",
    "# ax.set_rticks(ticks)\n",
    "# ax.set_yticklabels(['{0:d} kpc'.format(x) for x in ticks])\n",
    "# ax.set_xlabel(\"Galactic Longitude\", labelpad=15)\n",
    "# ax.tick_params(axis='y', labelsize=20)\n",
    "# # fig.savefig(\"/Users/adrian/papers/proposals/MDM-2015/GASS.pdf\")"
   ]
  },
  {
   "cell_type": "code",
   "execution_count": null,
   "metadata": {
    "collapsed": false
   },
   "outputs": [],
   "source": [
    "pl.hist(gass_tbl['VmagAvg'])\n",
    "pl.xlabel(\"V [mag]\")\n",
    "pl.ylabel(\"N\")"
   ]
  },
  {
   "cell_type": "markdown",
   "metadata": {},
   "source": [
    "---\n",
    "\n",
    "## A13 selection\n",
    "\n",
    "Taken from Sharma: http://iopscience.iop.org/article/10.1088/0004-637X/722/1/750/pdf"
   ]
  },
  {
   "cell_type": "code",
   "execution_count": null,
   "metadata": {
    "collapsed": false
   },
   "outputs": [],
   "source": [
    "window_corners = [coord.SkyCoord(l=130.*u.deg, b=20.*u.deg,frame='galactic'), \n",
    "                  coord.SkyCoord(l=180*u.deg, b=40*u.deg,frame='galactic')]\n",
    "css_sky_window_ix2 = coords_in_rect(css_c.galactic, window_corners)\n",
    "print(\"{} CSS targets in this window.\".format(css_sky_window_ix2.sum()))"
   ]
  },
  {
   "cell_type": "code",
   "execution_count": null,
   "metadata": {
    "collapsed": true
   },
   "outputs": [],
   "source": [
    "css_distance_ix2 = ((css_c.distance > 11*u.kpc) & (css_c.distance < 33.*u.kpc))"
   ]
  },
  {
   "cell_type": "code",
   "execution_count": null,
   "metadata": {
    "collapsed": true
   },
   "outputs": [],
   "source": [
    "a13_tbl = css[css_sky_window_ix2 & css_distance_ix2]\n",
    "a13 = coord.SkyCoord(l=a13_tbl['l']*u.deg, b=a13_tbl['b']*u.deg, \n",
    "                     distance=a13_tbl['helio_dist']*u.kpc, frame='galactic')"
   ]
  },
  {
   "cell_type": "code",
   "execution_count": null,
   "metadata": {
    "collapsed": false
   },
   "outputs": [],
   "source": [
    "print(\"{} A13 targets\".format(len(a13)))"
   ]
  },
  {
   "cell_type": "code",
   "execution_count": null,
   "metadata": {
    "collapsed": false
   },
   "outputs": [],
   "source": [
    "fig,axes = pl.subplots(1,2,figsize=(12,5))\n",
    "n,bins,pa = axes[0].hist(a13_tbl['helio_dist'], bins=np.linspace(10,40,12))\n",
    "axes[0].set_xlabel(\"Radial dist. [kpc]\")\n",
    "axes[0].set_xlim(bins.min(),bins.max())\n",
    "\n",
    "# axes[1].hist(gc_cyl_triand.rho, bins=8)\n",
    "# axes[1].set_xlabel(\"Cylindrical dist. [kpc]\")\n",
    "# axes[1].set_xlim(17,24)\n",
    "\n",
    "axes[0].set_ylabel(\"Number RRL\")"
   ]
  },
  {
   "cell_type": "code",
   "execution_count": null,
   "metadata": {
    "collapsed": false
   },
   "outputs": [],
   "source": [
    "fig,ax = pl.subplots(1,1,figsize=(6,6),subplot_kw =dict(polar=True))\n",
    "\n",
    "ax.add_artist(mpl.patches.Circle((-8.,0), radius=2.5, transform=ax.transData._b, facecolor='r', alpha=0.2))\n",
    "ax.add_artist(mpl.patches.Circle((-8.,0), radius=0.5, transform=ax.transData._b, facecolor='y', alpha=1.))\n",
    "\n",
    "a13_cyl = a13.galactocentric.represent_as(coord.CylindricalRepresentation)\n",
    "css_cyl = css_c.galactocentric.represent_as(coord.CylindricalRepresentation)\n",
    "\n",
    "ax.plot(css_cyl.phi.to(u.radian), \n",
    "        css_cyl.rho.to(u.kpc), \n",
    "        color='k', linestyle='none', marker='.', alpha=0.1)\n",
    "# ax.plot(gass_cyl.phi.to(u.radian), gass_cyl.rho.to(u.kpc), \n",
    "#         color='k', linestyle='none', marker='o')\n",
    "ax.scatter(a13_cyl.phi.to(u.radian), a13_cyl.rho.to(u.kpc), \n",
    "           c=a13_tbl['VmagAvg'], marker='o')\n",
    "\n",
    "ax.set_rmax(40.0)\n",
    "ax.grid(True)\n",
    "\n",
    "ticks = [10,20,30]\n",
    "ax.set_rticks(ticks)\n",
    "ax.set_yticklabels(['{0:d} kpc'.format(x) for x in ticks])\n",
    "ax.set_xlabel(\"Galactic Longitude\", labelpad=15)\n",
    "ax.tick_params(axis='y', labelsize=20)\n",
    "# fig.savefig(\"/Users/adrian/papers/proposals/MDM-2015/GASS.pdf\")\n",
    "\n",
    "# ------\n",
    "fig,ax = pl.subplots(1,1,figsize=(7,6))\n",
    "\n",
    "ax.plot(css_cyl.rho.to(u.kpc), \n",
    "        css_cyl.z.to(u.kpc), \n",
    "        color='k', linestyle='none', marker='.', alpha=0.25)\n",
    "cc = ax.scatter(a13_cyl.rho.to(u.kpc), \n",
    "                a13_cyl.z.to(u.kpc), \n",
    "                c=a13_tbl['VmagAvg'], marker='o')\n",
    "ax.set_xlim(0,40)\n",
    "ax.set_ylim(-20.,20)\n",
    "ax.set_xlabel(\"R [kpc]\")\n",
    "ax.set_ylabel(\"z [kpc]\")\n",
    "fig.colorbar(cc)\n",
    "\n",
    "# ticks = [10,20]\n",
    "# ax.set_rticks(ticks)\n",
    "# ax.set_yticklabels(['{0:d} kpc'.format(x) for x in ticks])\n",
    "# ax.set_xlabel(\"Galactic Longitude\", labelpad=15)\n",
    "# ax.tick_params(axis='y', labelsize=20)\n",
    "# # fig.savefig(\"/Users/adrian/papers/proposals/MDM-2015/GASS.pdf\")"
   ]
  },
  {
   "cell_type": "code",
   "execution_count": null,
   "metadata": {
    "collapsed": false
   },
   "outputs": [],
   "source": [
    "pl.hist(a13_tbl['VmagAvg'])\n",
    "pl.xlabel(\"V [mag]\")\n",
    "pl.ylabel(\"N\")"
   ]
  },
  {
   "cell_type": "markdown",
   "metadata": {},
   "source": [
    "Overlap between the two samples?"
   ]
  },
  {
   "cell_type": "code",
   "execution_count": null,
   "metadata": {
    "collapsed": false
   },
   "outputs": [],
   "source": [
    "match_idx,sep,_ = gass.match_to_catalog_sky(a13)\n",
    "_,sep_a13,_ = a13.match_to_catalog_sky(gass)"
   ]
  },
  {
   "cell_type": "code",
   "execution_count": null,
   "metadata": {
    "collapsed": false
   },
   "outputs": [],
   "source": [
    "match_idx.shape, gass.shape, sep_a13.shape"
   ]
  },
  {
   "cell_type": "code",
   "execution_count": null,
   "metadata": {
    "collapsed": false
   },
   "outputs": [],
   "source": [
    "print(\"{} overlapping targets\".format((sep.arcsecond < 1.).sum()))"
   ]
  },
  {
   "cell_type": "markdown",
   "metadata": {},
   "source": [
    "## Write out the targets"
   ]
  },
  {
   "cell_type": "code",
   "execution_count": null,
   "metadata": {
    "collapsed": true
   },
   "outputs": [],
   "source": [
    "from astropy.table import vstack"
   ]
  },
  {
   "cell_type": "code",
   "execution_count": null,
   "metadata": {
    "collapsed": false
   },
   "outputs": [],
   "source": [
    "gass_tbl['structure'] = 'GASS'\n",
    "out_gass_tbl = gass_tbl[sep.arcsecond > 1.]\n",
    "\n",
    "a13_tbl['structure'] = 'A13'\n",
    "a13_tbl[sep_a13.arcsecond > 1.]['structure'] = 'both'\n",
    "\n",
    "out_a13_tbl = a13_tbl"
   ]
  },
  {
   "cell_type": "code",
   "execution_count": null,
   "metadata": {
    "collapsed": false
   },
   "outputs": [],
   "source": [
    "out_tbl = vstack((out_gass_tbl, out_a13_tbl))\n",
    "out_tbl.sort('ra')\n",
    "out_tbl['ID'] = [\"GA-RR{0:d}\".format(x+1) for x in np.arange(len(out_tbl)).astype(int)]"
   ]
  },
  {
   "cell_type": "code",
   "execution_count": null,
   "metadata": {
    "collapsed": false
   },
   "outputs": [],
   "source": [
    "len(out_tbl)"
   ]
  },
  {
   "cell_type": "code",
   "execution_count": null,
   "metadata": {
    "collapsed": false
   },
   "outputs": [],
   "source": [
    "ascii.write(out_tbl, \"/Users/adrian/projects/triand-rrlyrae/data/targets/GASSA13_2016.txt\")"
   ]
  },
  {
   "cell_type": "code",
   "execution_count": null,
   "metadata": {
    "collapsed": true
   },
   "outputs": [],
   "source": [
    "ascii.write(out_tbl[['ID','ra','dec']], \"/Users/adrian/projects/triand-rrlyrae/data/targets/GASSA13_2016_short.txt\")#, format=\"ascii\")"
   ]
  },
  {
   "cell_type": "code",
   "execution_count": null,
   "metadata": {
    "collapsed": false
   },
   "outputs": [],
   "source": [
    "out_tbl_sex = out_tbl.copy()\n",
    "\n",
    "ra = coord.Longitude(out_tbl_sex['ra']*u.deg)\n",
    "out_tbl_sex['ra_sex'] = ra.to_string(unit=u.hour, precision=5, sep=':')\n",
    "\n",
    "dec = coord.Latitude(out_tbl_sex['dec']*u.deg)\n",
    "out_tbl_sex['dec_sex'] = dec.to_string(unit=u.degree, precision=5, sep=':')\n",
    "\n",
    "ascii.write(out_tbl_sex[['ID','ra_sex','dec_sex']], \"/Users/adrian/projects/triand-rrlyrae/data/targets/GASSA13_2016_short_sexa.txt\")"
   ]
  },
  {
   "cell_type": "markdown",
   "metadata": {},
   "source": [
    "---\n",
    "\n",
    "### Brightness limit of Catalina\n",
    "\n",
    "Claim is that it is V ~ 12.5"
   ]
  },
  {
   "cell_type": "code",
   "execution_count": null,
   "metadata": {
    "collapsed": false
   },
   "outputs": [],
   "source": [
    "from gary.observation import distance, apparent_magnitude\n",
    "from gary.observation.rrlyrae import M_V"
   ]
  },
  {
   "cell_type": "code",
   "execution_count": null,
   "metadata": {
    "collapsed": false
   },
   "outputs": [],
   "source": [
    "distance(12.5 - M_V(-1.5)).to(u.kpc)"
   ]
  },
  {
   "cell_type": "code",
   "execution_count": null,
   "metadata": {
    "collapsed": false
   },
   "outputs": [],
   "source": [
    "apparent_magnitude(M_V(-1.5), 10.*u.kpc)"
   ]
  },
  {
   "cell_type": "markdown",
   "metadata": {},
   "source": [
    "---\n",
    "\n",
    "### Exposure times"
   ]
  },
  {
   "cell_type": "code",
   "execution_count": null,
   "metadata": {
    "collapsed": true
   },
   "outputs": [],
   "source": [
    "from scipy.interpolate import InterpolatedUnivariateSpline"
   ]
  },
  {
   "cell_type": "code",
   "execution_count": null,
   "metadata": {
    "collapsed": false
   },
   "outputs": [],
   "source": [
    "pl.semilogy([14.5,16,17.5], [150,600,2400])\n",
    "pl.xlim(14, 18)"
   ]
  },
  {
   "cell_type": "code",
   "execution_count": null,
   "metadata": {
    "collapsed": true
   },
   "outputs": [],
   "source": [
    "def Vmag_to_exptime(V):\n",
    "    s = InterpolatedUnivariateSpline([14.5,16,17.5], np.log10([150,600,2400]), k=1)\n",
    "    y = 10**s(V)\n",
    "    return y"
   ]
  },
  {
   "cell_type": "code",
   "execution_count": null,
   "metadata": {
    "collapsed": false
   },
   "outputs": [],
   "source": [
    "a13_exptimes = [Vmag_to_exptime(V) for V in a13_tbl['VmagAvg']]\n",
    "GASS_exptimes = [Vmag_to_exptime(V) for V in gass_tbl['VmagAvg']]"
   ]
  },
  {
   "cell_type": "code",
   "execution_count": null,
   "metadata": {
    "collapsed": false
   },
   "outputs": [],
   "source": [
    "len(a13_exptimes), len(GASS_exptimes)"
   ]
  },
  {
   "cell_type": "code",
   "execution_count": null,
   "metadata": {
    "collapsed": false
   },
   "outputs": [],
   "source": [
    "print(\"A13\", (sum(a13_exptimes)*u.second).to(u.hour))\n",
    "print(\"GASS\", (sum(GASS_exptimes)*u.second).to(u.hour))"
   ]
  },
  {
   "cell_type": "markdown",
   "metadata": {},
   "source": [
    "### Check airmass of targets in Feb 2016"
   ]
  },
  {
   "cell_type": "code",
   "execution_count": null,
   "metadata": {
    "collapsed": true
   },
   "outputs": [],
   "source": [
    "time_grid = astroplan.time_grid_from_range(time_range)"
   ]
  },
  {
   "cell_type": "code",
   "execution_count": null,
   "metadata": {
    "collapsed": false
   },
   "outputs": [],
   "source": [
    "min_secz = []\n",
    "min_secz_times = []\n",
    "for c in a13:\n",
    "    aa = c.transform_to(coord.AltAz(obstime=time_grid, location=mdm.location))\n",
    "    aa = aa[aa.alt > 0.*u.deg]\n",
    "    ix = aa.alt.argmax()\n",
    "    min_secz.append(aa.secz[ix])\n",
    "    min_secz_times.append(time_grid[ix])\n",
    "\n",
    "for c in gass:\n",
    "    aa = c.transform_to(coord.AltAz(obstime=time_grid, location=mdm.location))\n",
    "    aa = aa[aa.alt > 0.*u.deg]\n",
    "    ix = aa.alt.argmax()\n",
    "    min_secz.append(aa.secz[ix])\n",
    "    min_secz_times.append(time_grid[ix])"
   ]
  },
  {
   "cell_type": "code",
   "execution_count": null,
   "metadata": {
    "collapsed": false
   },
   "outputs": [],
   "source": [
    "min_secz = u.Quantity(min_secz)\n",
    "min_secz_times = min_secz_times"
   ]
  },
  {
   "cell_type": "code",
   "execution_count": null,
   "metadata": {
    "collapsed": false
   },
   "outputs": [],
   "source": [
    "hrs = [mdm.astropy_time_to_datetime(mst).hour for mst in min_secz_times]"
   ]
  },
  {
   "cell_type": "code",
   "execution_count": null,
   "metadata": {
    "collapsed": false
   },
   "outputs": [],
   "source": [
    "(min_secz < 1.5).sum()"
   ]
  },
  {
   "cell_type": "code",
   "execution_count": null,
   "metadata": {
    "collapsed": false
   },
   "outputs": [],
   "source": [
    "pl.hist(min_secz)\n",
    "pl.xlabel(\"Minimum Airmass\")"
   ]
  },
  {
   "cell_type": "code",
   "execution_count": null,
   "metadata": {
    "collapsed": false
   },
   "outputs": [],
   "source": [
    "pl.hist(hrs)\n",
    "# pl.xlabel(\"Minimum Airmass\")"
   ]
  },
  {
   "cell_type": "code",
   "execution_count": null,
   "metadata": {
    "collapsed": true
   },
   "outputs": [],
   "source": []
  },
  {
   "cell_type": "code",
   "execution_count": null,
   "metadata": {
    "collapsed": true
   },
   "outputs": [],
   "source": []
  }
 ],
 "metadata": {
  "kernelspec": {
   "display_name": "Python 3",
   "language": "python",
   "name": "python3"
  },
  "language_info": {
   "codemirror_mode": {
    "name": "ipython",
    "version": 3
   },
   "file_extension": ".py",
   "mimetype": "text/x-python",
   "name": "python",
   "nbconvert_exporter": "python",
   "pygments_lexer": "ipython3",
   "version": "3.5.1"
  }
 },
 "nbformat": 4,
 "nbformat_minor": 0
}