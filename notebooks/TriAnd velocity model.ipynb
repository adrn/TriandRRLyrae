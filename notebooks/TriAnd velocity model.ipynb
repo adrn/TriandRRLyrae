{
 "metadata": {
  "name": "",
  "signature": "sha256:ec298fb954cac13a8776d69cf91c41a10e8dfb00d73a458db43c3b50957a05d2"
 },
 "nbformat": 3,
 "nbformat_minor": 0,
 "worksheets": [
  {
   "cells": [
    {
     "cell_type": "code",
     "collapsed": false,
     "input": [
      "import matplotlib.pyplot as plt\n",
      "%matplotlib inline"
     ],
     "language": "python",
     "metadata": {},
     "outputs": [],
     "prompt_number": 5
    },
    {
     "cell_type": "code",
     "collapsed": false,
     "input": [
      "import numpy as np\n",
      "from scipy.misc import logsumexp\n",
      "from scipy.special import erf\n",
      "from scipy.stats import maxwell\n",
      "\n",
      "import emcee\n",
      "import triangle"
     ],
     "language": "python",
     "metadata": {},
     "outputs": [],
     "prompt_number": 6
    },
    {
     "cell_type": "code",
     "collapsed": false,
     "input": [
      "d = np.genfromtxt(\"/Users/adrian/projects/triand-rrlyrae/data/RRL_ALL.txt\", skiprows=2)\n",
      "# remove larger area catalina stars\n",
      "d = np.vstack((d[:17], d[-1:]))"
     ],
     "language": "python",
     "metadata": {},
     "outputs": [],
     "prompt_number": 7
    },
    {
     "cell_type": "markdown",
     "metadata": {},
     "source": [
      "The likelihood is something like this:\n",
      "\n",
      "We'll fix the mean and variance of the two velocity distributions:\n",
      "$$\n",
      "\\mu_{\\rm h},\\sigma_{\\rm h} = (0.,120)~{\\rm km~s}^{-1}\\\\\n",
      "\\mu_{\\rm T},\\sigma_{\\rm T} = (40, 20)~{\\rm km~s}^{-1}\n",
      "$$\n",
      "\n",
      "$f_{\\rm h}$ is the fraction of halo stars in the sample.\n",
      "\n",
      "Then we'll infer the halo fraction using the likelihood:\n",
      "$$\n",
      "p(D,v \\,|\\, f_{\\rm h}) = p(D \\,|\\, v) \\, p(v \\,|\\, f_{\\rm h})\\\\\n",
      "p(v \\,|\\, f_{\\rm h}) = f_{\\rm h}\\,p(v \\,|\\, \\mu_{\\rm h},\\sigma_{\\rm h}) + (1-f_{\\rm h})\\,p(v \\,|\\, \\mu_{\\rm T},\\sigma_{\\rm T})\n",
      "$$\n",
      "\n",
      "With observed velocities, we instead use the marginal likelihood:\n",
      "$$\n",
      "p(D \\,|\\, f_{\\rm h}) = \\int p(D,v \\,|\\, f_{\\rm h}) dv\n",
      "$$"
     ]
    },
    {
     "cell_type": "code",
     "collapsed": false,
     "input": [
      "mu_h,sigma_h = (0., 120.)  # km/s\n",
      "mu_T,sigma_T = (40., 20.)  # km/s"
     ],
     "language": "python",
     "metadata": {},
     "outputs": [],
     "prompt_number": 8
    },
    {
     "cell_type": "code",
     "collapsed": false,
     "input": [
      "def ln_normal(x, mu, sigma):\n",
      "    return -0.5*np.log(2*np.pi) - np.log(sigma) - 0.5*((x-mu)/sigma)**2\n",
      "\n",
      "def ln_likelihood_no_err(p, v):\n",
      "    f_h = p[0]\n",
      "    \n",
      "    term1 = ln_normal(v, mu_h, sigma_h)\n",
      "    term2 = ln_normal(v, mu_T, sigma_T)\n",
      "    x = np.array([term1, term2])\n",
      "    \n",
      "    # coefficients\n",
      "    b = np.zeros_like(x)\n",
      "    b[0] = f_h\n",
      "    b[1] = 1-f_h\n",
      "    \n",
      "    return logsumexp(x, b=b, axis=0)\n",
      "\n",
      "def ln_likelihood(p, v_obs, v_err):\n",
      "    f_h = p[0]\n",
      "    \n",
      "    sigma1 = np.sqrt(v_err**2 + sigma_h**2)\n",
      "    sigma2 = np.sqrt(v_err**2 + sigma_T**2)\n",
      "    \n",
      "    term1 = ln_normal(v_obs, mu_h, sigma1)\n",
      "    term2 = ln_normal(v_obs, mu_T, sigma2)\n",
      "    x = np.array([term1, term2])\n",
      "    \n",
      "    # coefficients\n",
      "    b = np.zeros_like(x)\n",
      "    b[0] = f_h\n",
      "    b[1] = 1-f_h\n",
      "    \n",
      "    return logsumexp(x, b=b, axis=0)\n",
      "\n",
      "def ln_prior(p):\n",
      "    f_h = p[0]\n",
      "    \n",
      "    if f_h > 1. or f_h < 0.:\n",
      "        return -np.inf\n",
      "    \n",
      "    return 0.\n",
      "\n",
      "def ln_posterior(p, *args):\n",
      "    lnp = ln_prior(p)\n",
      "    if np.isinf(lnp):\n",
      "        return -np.inf\n",
      "    \n",
      "    return lnp + ln_likelihood(p, *args).sum()"
     ],
     "language": "python",
     "metadata": {},
     "outputs": [],
     "prompt_number": 9
    },
    {
     "cell_type": "markdown",
     "metadata": {},
     "source": [
      "Here I'll generate some fake data and observe it ..."
     ]
    },
    {
     "cell_type": "code",
     "collapsed": false,
     "input": [
      "np.random.seed(42)\n",
      "\n",
      "N = 1000\n",
      "true_f_h = 1.\n",
      "N_h = int(true_f_h*N)\n",
      "N_T = N-int(true_f_h*N)\n",
      "true_v = np.append(np.random.normal(mu_h, sigma_h, size=N_h),\n",
      "                   np.random.normal(mu_T, sigma_T, size=N_T))\n",
      "\n",
      "# generate with the wrong distribution\n",
      "# true_v = np.append(np.random.normal(mu_h, sigma_h-25, size=N_h),\n",
      "#                    np.random.normal(mu_T, sigma_T, size=N_T))\n",
      "\n",
      "print(\"N halo: {}, N TriAnd: {}\".format(N_h, N_T))\n",
      "\n",
      "v_err_18 = 15.\n",
      "v_obs_18 = np.random.normal(true_v, v_err_18)\n",
      "v_obs_18 = v_obs_18[:18]\n",
      "\n",
      "v_err_179 = 15.\n",
      "v_obs_179 = np.random.normal(true_v, v_err_179)\n",
      "v_obs_179 = v_obs_179[:233]"
     ],
     "language": "python",
     "metadata": {},
     "outputs": [
      {
       "output_type": "stream",
       "stream": "stdout",
       "text": [
        "N halo: 1000, N TriAnd: 0\n"
       ]
      }
     ],
     "prompt_number": 17
    },
    {
     "cell_type": "code",
     "collapsed": false,
     "input": [
      "nwalkers = 32\n",
      "mock_sampler_1 = emcee.EnsembleSampler(nwalkers=nwalkers, dim=1, lnpostfn=ln_posterior, \n",
      "                                        args=(v_obs_18, v_err_18))\n",
      "\n",
      "p0 = np.zeros((nwalkers,mock_sampler_1.dim))\n",
      "p0[:,0] = np.random.normal(0.5, 0.01, size=nwalkers)\n",
      "\n",
      "for pp in p0:\n",
      "    lnp = ln_posterior(pp, *mock_sampler_1.args)\n",
      "    if not np.isfinite(lnp):\n",
      "        print(\"you suck\")\n",
      "        \n",
      "pos,prob,state = mock_sampler_1.run_mcmc(p0, N=100)\n",
      "mock_sampler_1.reset()\n",
      "pos,prob,state = mock_sampler_1.run_mcmc(pos, N=1000)"
     ],
     "language": "python",
     "metadata": {},
     "outputs": [],
     "prompt_number": 18
    },
    {
     "cell_type": "code",
     "collapsed": false,
     "input": [
      "nwalkers = 32\n",
      "mock_sampler_2 = emcee.EnsembleSampler(nwalkers=nwalkers, dim=1, lnpostfn=ln_posterior, \n",
      "                                        args=(v_obs_179, v_err_179))\n",
      "\n",
      "p0 = np.zeros((nwalkers,mock_sampler_2.dim))\n",
      "p0[:,0] = np.random.normal(0.5, 0.01, size=nwalkers)\n",
      "\n",
      "for pp in p0:\n",
      "    lnp = ln_posterior(pp, *mock_sampler_2.args)\n",
      "    if not np.isfinite(lnp):\n",
      "        print(\"you suck\")\n",
      "        \n",
      "pos,prob,state = mock_sampler_2.run_mcmc(p0, N=100)\n",
      "mock_sampler_2.reset()\n",
      "pos,prob,state = mock_sampler_2.run_mcmc(pos, N=1000)"
     ],
     "language": "python",
     "metadata": {},
     "outputs": [],
     "prompt_number": 19
    },
    {
     "cell_type": "heading",
     "level": 1,
     "metadata": {},
     "source": [
      "Real data"
     ]
    },
    {
     "cell_type": "code",
     "collapsed": false,
     "input": [
      "len(d[:,3])"
     ],
     "language": "python",
     "metadata": {},
     "outputs": [
      {
       "metadata": {},
       "output_type": "pyout",
       "prompt_number": 20,
       "text": [
        "18"
       ]
      }
     ],
     "prompt_number": 20
    },
    {
     "cell_type": "code",
     "collapsed": false,
     "input": [
      "fs = np.linspace(0.,1.,100)\n",
      "ls = np.zeros_like(fs)\n",
      "for i,f in enumerate(fs):\n",
      "    ls[i] = ln_likelihood([f], d[:,3], 10.).sum()\n",
      "    \n",
      "fig,axes = plt.subplots(1,2,figsize=(12,6))\n",
      "axes[0].plot(fs,ls)\n",
      "axes[1].plot(fs,np.exp(ls-ls.max()))\n",
      "axes[1].axvline(true_f_h)\n",
      "# axes[1].set_xlim(0.8,1)"
     ],
     "language": "python",
     "metadata": {},
     "outputs": [
      {
       "metadata": {},
       "output_type": "pyout",
       "prompt_number": 21,
       "text": [
        "<matplotlib.lines.Line2D at 0x10ae60110>"
       ]
      },
      {
       "metadata": {},
       "output_type": "display_data",
       "png": "[encoded data removed]",
       "text": [
        "<matplotlib.figure.Figure at 0x10afa9310>"
       ]
      }
     ],
     "prompt_number": 21
    },
    {
     "cell_type": "code",
     "collapsed": false,
     "input": [
      "vr_err = 15. # km/s\n",
      "nwalkers = 32\n",
      "sampler = emcee.EnsembleSampler(nwalkers=nwalkers, dim=1, lnpostfn=ln_posterior, \n",
      "                                args=(d[:,3], vr_err))\n",
      "\n",
      "p0 = np.zeros((nwalkers,sampler.dim))\n",
      "p0[:,0] = np.random.normal(0.5, 0.01, size=nwalkers)\n",
      "\n",
      "for pp in p0:\n",
      "    lnp = ln_posterior(pp, *sampler.args)\n",
      "    if not np.isfinite(lnp):\n",
      "        print(\"you suck\")\n",
      "        \n",
      "pos,prob,state = sampler.run_mcmc(p0, N=100)\n",
      "sampler.reset()\n",
      "pos,prob,state = sampler.run_mcmc(pos, N=1000)"
     ],
     "language": "python",
     "metadata": {},
     "outputs": [],
     "prompt_number": 22
    },
    {
     "cell_type": "code",
     "collapsed": false,
     "input": [
      "fig,axes = plt.subplots(1,2,figsize=(14,6), sharex=True, sharey=True)\n",
      "axes[0].hist((1-sampler.flatchain)*179, bins=np.linspace(0.,179.,50), normed=True);\n",
      "axes[0].set_xlabel(r\"Number of RR Lyrae in Triand\")\n",
      "axes[0].set_ylabel(r\"Probability\")\n",
      "axes[0].set_title(\"RR Lyrae data\")\n",
      "axes[0].axvline(109, linewidth=3., linestyle='dashed', color='#555555')\n",
      "axes[0].text(104, 0.04, \"Number of M-giants\\n in Triand\", fontsize=18, ha='right')\n",
      "axes[0].set_yticklabels([])\n",
      "[ll.set_fontsize(18) for ll in axes[0].xaxis.get_ticklabels()]\n",
      "\n",
      "axes[1].hist((1-mock_sampler_1.flatchain)*179, bins=np.linspace(0.,179.,50), alpha=0.5, normed=True, label='18 stars');\n",
      "axes[1].hist((1-mock_sampler_2.flatchain)*179, bins=np.linspace(0.,179.,50), alpha=0.5, normed=True, label='179 stars');\n",
      "axes[1].set_xlabel(r\"Number of RR Lyrae in Triand\")\n",
      "axes[1].legend(fontsize=18)\n",
      "axes[1].set_title(\"Simulated data\")\n",
      "[ll.set_fontsize(18) for ll in axes[1].xaxis.get_ticklabels()]\n",
      "\n",
      "# fig.savefig(\"/Users/adrian/projects/triand-rrlyrae/plots/ftriand.pdf\")"
     ],
     "language": "python",
     "metadata": {},
     "outputs": [
      {
       "metadata": {},
       "output_type": "pyout",
       "prompt_number": 23,
       "text": [
        "[None, None, None, None, None, None, None, None, None, None]"
       ]
      },
      {
       "metadata": {},
       "output_type": "display_data",
       "png": "[encoded data removed]",
       "text": [
        "<matplotlib.figure.Figure at 0x10baa94d0>"
       ]
      }
     ],
     "prompt_number": 23
    },
    {
     "cell_type": "code",
     "collapsed": false,
     "input": [],
     "language": "python",
     "metadata": {},
     "outputs": []
    }
   ],
   "metadata": {}
  }
 ]
}