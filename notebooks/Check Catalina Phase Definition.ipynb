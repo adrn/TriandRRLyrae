{
 "cells": [
  {
   "cell_type": "code",
   "execution_count": null,
   "metadata": {
    "collapsed": true
   },
   "outputs": [],
   "source": [
    "import os\n",
    "import glob\n",
    "from datetime import datetime\n",
    "\n",
    "import astropy.time as atime\n",
    "from astropy.table import Table\n",
    "import matplotlib.pyplot as pl\n",
    "%matplotlib inline\n",
    "import numpy as np"
   ]
  },
  {
   "cell_type": "code",
   "execution_count": null,
   "metadata": {
    "collapsed": false
   },
   "outputs": [],
   "source": [
    "d = Table(np.genfromtxt(\"/Users/adrian/projects/triand-rrlyrae/data/targets/gass.txt\", names=True, dtype=None))\n",
    "# d = Table(np.genfromtxt(\"/Users/adrian/projects/triand-rrlyrae/data/targets/triand1_targets_2015.txt\", names=True, dtype=None))\n",
    "print(d.colnames)"
   ]
  },
  {
   "cell_type": "code",
   "execution_count": null,
   "metadata": {
    "collapsed": false
   },
   "outputs": [],
   "source": [
    "phot = Table(np.genfromtxt(\"/Users/adrian/Downloads/CSS_RR_phot/RRinput1.phot\", \n",
    "                           names=[\"ID\", \"MJD\", \"mag\", \"mag_err\", \"ra\", \"dec\"], dtype=None, delimiter=\",\"))\n",
    "print(phot.colnames)"
   ]
  },
  {
   "cell_type": "code",
   "execution_count": null,
   "metadata": {
    "collapsed": false
   },
   "outputs": [],
   "source": [
    "for _id in d['CSSIDnum'][3:]:\n",
    "    row = d[(d['CSSIDnum'] == _id)]\n",
    "    \n",
    "    for filename in glob.glob(\"/Users/adrian/Downloads/CSS_RR_phot/*.phot\"):\n",
    "        just_ID = np.genfromtxt(filename, dtype=None, delimiter=\",\", usecols=[0])\n",
    "        if _id in just_ID:\n",
    "            print(filename)\n",
    "        else:\n",
    "            continue\n",
    "            \n",
    "        phot = np.genfromtxt(filename, names=[\"ID\", \"MJD\", \"mag\", \"mag_err\", \"ra\", \"dec\"], dtype=None, delimiter=\",\")\n",
    "        this_phot = phot[phot['ID'] == _id]\n",
    "    \n",
    "    pl.errorbar(((this_phot['MJD']-row['mjd0']) / row['period']) % 1, \n",
    "                this_phot['mag'], this_phot['mag_err'], \n",
    "                marker='o', ecolor='#666666', ls='none')\n",
    "    pl.ylim(pl.ylim()[::-1])\n",
    "    print(row['amp'])\n",
    "    break"
   ]
  },
  {
   "cell_type": "markdown",
   "metadata": {},
   "source": [
    "GASS2015RR7,15,20 have bad S/N...let's look at their light curves"
   ]
  },
  {
   "cell_type": "code",
   "execution_count": null,
   "metadata": {
    "collapsed": false
   },
   "outputs": [],
   "source": [
    "def plot_light_curve(apw_name, now=False):\n",
    "    row = d[(d['ID2015'] == apw_name)]\n",
    "    _id = row['CSSIDnum']\n",
    "    \n",
    "    for filename in glob.glob(\"/Users/adrian/Downloads/CSS_RR_phot/*.phot\"):\n",
    "        just_ID = np.genfromtxt(filename, dtype=None, delimiter=\",\", usecols=[0])\n",
    "        if _id in just_ID:\n",
    "            print(filename)\n",
    "        else:\n",
    "            continue\n",
    "            \n",
    "        phot = np.genfromtxt(filename, names=[\"ID\", \"MJD\", \"mag\", \"mag_err\", \"ra\", \"dec\"], dtype=None, delimiter=\",\")\n",
    "        this_phot = phot[phot['ID'] == _id]\n",
    "    \n",
    "    pl.errorbar(((this_phot['MJD']-row['mjd0']) / row['period']) % 1, \n",
    "                this_phot['mag'], this_phot['mag_err'], \n",
    "                marker='o', ecolor='#666666', ls='none')\n",
    "    if now:\n",
    "        time = atime.Time(datetime.utcnow(), scale='utc')\n",
    "        pl.axvline(((time.mjd-row['mjd0']) / row['period']) % 1)\n",
    "        \n",
    "    pl.ylim(pl.ylim()[::-1])"
   ]
  },
  {
   "cell_type": "code",
   "execution_count": null,
   "metadata": {
    "collapsed": false,
    "scrolled": true
   },
   "outputs": [],
   "source": [
    "plot_light_curve('GASS2015RR42')#, now=True)"
   ]
  },
  {
   "cell_type": "code",
   "execution_count": null,
   "metadata": {
    "collapsed": true
   },
   "outputs": [],
   "source": []
  }
 ],
 "metadata": {
  "kernelspec": {
   "display_name": "Python 2",
   "language": "python",
   "name": "python2"
  },
  "language_info": {
   "codemirror_mode": {
    "name": "ipython",
    "version": 2
   },
   "file_extension": ".py",
   "mimetype": "text/x-python",
   "name": "python",
   "nbconvert_exporter": "python",
   "pygments_lexer": "ipython2",
   "version": "2.7.10"
  }
 },
 "nbformat": 4,
 "nbformat_minor": 0
}