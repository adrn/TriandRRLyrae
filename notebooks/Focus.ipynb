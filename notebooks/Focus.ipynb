{
 "cells": [
  {
   "cell_type": "code",
   "execution_count": null,
   "metadata": {
    "collapsed": true
   },
   "outputs": [],
   "source": [
    "import numpy as np\n",
    "import matplotlib.pyplot as pl\n",
    "pl.style.use('apw-notebook')\n",
    "%matplotlib inline\n",
    "import scipy.optimize as so"
   ]
  },
  {
   "cell_type": "code",
   "execution_count": null,
   "metadata": {
    "collapsed": false
   },
   "outputs": [],
   "source": [
    "focus_fwhm = [\n",
    "    (2520,3.5,0.2),\n",
    "    (2515,2.8,0.01),\n",
    "    (2510,2.4,0.01),\n",
    "    (2505,3.00,0.01)\n",
    "]\n",
    "focus_fwhm = np.array(focus_fwhm, dtype=[('focus',float),('fwhm',float),('fwhm_err',float)])"
   ]
  },
  {
   "cell_type": "code",
   "execution_count": null,
   "metadata": {
    "collapsed": true
   },
   "outputs": [],
   "source": [
    "def model(p,focus):\n",
    "    return p[0]*(focus-p[3])**2 + p[1]*(focus-p[3]) + p[2]\n",
    "\n",
    "def errfunc(p,focus,fwhm,fwhm_err):\n",
    "    return (fwhm - model(p,focus))/fwhm_err"
   ]
  },
  {
   "cell_type": "code",
   "execution_count": null,
   "metadata": {
    "collapsed": false
   },
   "outputs": [],
   "source": [
    "grid = np.linspace(2500,2520,100)\n",
    "pl.plot(grid, model((1e-2,1e-2,focus_fwhm['fwhm'].min(),np.median(focus_fwhm['focus'])),grid))\n",
    "pl.plot(focus_fwhm['focus'], focus_fwhm['fwhm'], ls='none', marker='o')"
   ]
  },
  {
   "cell_type": "code",
   "execution_count": null,
   "metadata": {
    "collapsed": false
   },
   "outputs": [],
   "source": [
    "popt,ier = so.leastsq(errfunc, x0=(1E-2,1E-2,2.,2510), \n",
    "                      args=(focus_fwhm['focus'], focus_fwhm['fwhm'], focus_fwhm['fwhm_err']))"
   ]
  },
  {
   "cell_type": "code",
   "execution_count": null,
   "metadata": {
    "collapsed": false
   },
   "outputs": [],
   "source": [
    "grid = np.linspace(2500,2520,1024)\n",
    "pl.plot(grid, model(popt,grid))\n",
    "pl.plot(focus_fwhm['focus'], focus_fwhm['fwhm'], ls='none', marker='o')"
   ]
  },
  {
   "cell_type": "code",
   "execution_count": null,
   "metadata": {
    "collapsed": false
   },
   "outputs": [],
   "source": [
    "idx = model(popt,grid).argmin()\n",
    "print(\"The focus you should use is: {}\".format(int(grid[idx])))"
   ]
  },
  {
   "cell_type": "code",
   "execution_count": null,
   "metadata": {
    "collapsed": true
   },
   "outputs": [],
   "source": []
  }
 ],
 "metadata": {
  "kernelspec": {
   "display_name": "Python 3",
   "language": "python",
   "name": "python3"
  },
  "language_info": {
   "codemirror_mode": {
    "name": "ipython",
    "version": 3
   },
   "file_extension": ".py",
   "mimetype": "text/x-python",
   "name": "python",
   "nbconvert_exporter": "python",
   "pygments_lexer": "ipython3",
   "version": "3.5.1"
  }
 },
 "nbformat": 4,
 "nbformat_minor": 0
}