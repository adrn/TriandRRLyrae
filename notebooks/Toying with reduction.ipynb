{
 "cells": [
  {
   "cell_type": "code",
   "execution_count": null,
   "metadata": {
    "collapsed": true
   },
   "outputs": [],
   "source": [
    "from astropy import nddata\n",
    "from astropy.modeling import models\n",
    "import astropy.units as u\n",
    "from astropy.io import fits\n",
    "import matplotlib.pyplot as pl\n",
    "%matplotlib inline\n",
    "import numpy as np\n",
    "\n",
    "import ccdproc"
   ]
  },
  {
   "cell_type": "code",
   "execution_count": null,
   "metadata": {
    "collapsed": true
   },
   "outputs": [],
   "source": [
    "nddata.conf.warn_unsupported_correlated = False"
   ]
  },
  {
   "cell_type": "code",
   "execution_count": null,
   "metadata": {
    "collapsed": true
   },
   "outputs": [],
   "source": [
    "path = \"/Users/adrian/projects/triand-rrlyrae/data/mdm-fall-2015/n3/\"\n",
    "images = ccdproc.ImageFileCollection(path, keywords='*')"
   ]
  },
  {
   "cell_type": "markdown",
   "metadata": {},
   "source": [
    "### CCD Properties (Echelle at MDM)"
   ]
  },
  {
   "cell_type": "code",
   "execution_count": null,
   "metadata": {
    "collapsed": true
   },
   "outputs": [],
   "source": [
    "gain = 1.3 * u.electron / u.adu\n",
    "readnoise = 7.9 * u.electron"
   ]
  },
  {
   "cell_type": "markdown",
   "metadata": {},
   "source": [
    "### Function to subtract overscan and trim a list of images"
   ]
  },
  {
   "cell_type": "code",
   "execution_count": null,
   "metadata": {
    "collapsed": true
   },
   "outputs": [],
   "source": [
    "def oscan_and_trim(image_list):\n",
    "    \"\"\"\n",
    "    Remove overscan and trim a list of images. The original list is \n",
    "    replaced by a list of images with the changes applied.\n",
    "    \"\"\"\n",
    "    for idx, img in enumerate(image_list):\n",
    "        oscan = ccdproc.subtract_overscan(img, img[:, 306:3314], add_keyword={'oscan_sub': True, 'calstat': 'O'}, model=models.Polynomial1D(1))\n",
    "        image_list[idx] = ccdproc.trim_image(oscan[:, :300], add_keyword={'trimmed': True, 'calstat': 'OT'})"
   ]
  },
  {
   "cell_type": "code",
   "execution_count": null,
   "metadata": {
    "collapsed": true
   },
   "outputs": [],
   "source": [
    "def med_over_images(masked_arr, axis=0):\n",
    "    \"\"\"\n",
    "    Calculate median pixel value along specified axis\n",
    "    \n",
    "    Uses bottleneck.nanmedian for speed\n",
    "    \"\"\"\n",
    "    \n",
    "    dat = masked_arr.data.copy()\n",
    "    dat[masked_arr.mask] = np.NaN\n",
    "    return np.nanmedian(dat, axis=axis)"
   ]
  },
  {
   "cell_type": "markdown",
   "metadata": {},
   "source": [
    "### Make a master bias"
   ]
  },
  {
   "cell_type": "markdown",
   "metadata": {},
   "source": [
    "First load all bias images"
   ]
  },
  {
   "cell_type": "code",
   "execution_count": null,
   "metadata": {
    "collapsed": false
   },
   "outputs": [],
   "source": [
    "bias_list = []\n",
    "for hdu, fname in images.hdus(imagetyp='bias', return_fname=True):\n",
    "    meta = hdu.header\n",
    "    meta['filename'] = fname\n",
    "    bias_list.append(ccdproc.CCDData(hdu.data*u.adu, meta=meta))"
   ]
  },
  {
   "cell_type": "code",
   "execution_count": null,
   "metadata": {
    "collapsed": false
   },
   "outputs": [],
   "source": [
    "print(\"{} bias frames\".format(len(bias_list)))"
   ]
  },
  {
   "cell_type": "markdown",
   "metadata": {},
   "source": [
    "Now subtract overscan and trim"
   ]
  },
  {
   "cell_type": "code",
   "execution_count": null,
   "metadata": {
    "collapsed": false
   },
   "outputs": [],
   "source": [
    "oscan_and_trim(bias_list)"
   ]
  },
  {
   "cell_type": "markdown",
   "metadata": {},
   "source": [
    "Combine the bias frames by averaging"
   ]
  },
  {
   "cell_type": "code",
   "execution_count": null,
   "metadata": {
    "collapsed": true
   },
   "outputs": [],
   "source": [
    "biases = ccdproc.Combiner(bias_list)\n",
    "master_bias = biases.median_combine()"
   ]
  },
  {
   "cell_type": "code",
   "execution_count": null,
   "metadata": {
    "collapsed": false
   },
   "outputs": [],
   "source": [
    "bias_mean = np.mean(master_bias.data)\n",
    "bias_std = np.std(master_bias.data)\n",
    "\n",
    "pl.figure(figsize=(15, 15))\n",
    "pl.imshow(master_bias, vmax=bias_mean + 4*bias_std, vmin=bias_mean - 4*bias_std, cmap='Greys_r')"
   ]
  },
  {
   "cell_type": "markdown",
   "metadata": {},
   "source": [
    "### Make a master flat"
   ]
  },
  {
   "cell_type": "code",
   "execution_count": null,
   "metadata": {
    "collapsed": false
   },
   "outputs": [],
   "source": [
    "flats = []\n",
    "for flat, fname in images.hdus(imagetyp='flat', return_fname=True):\n",
    "    meta = flat.header\n",
    "    meta['filename'] = fname\n",
    "    flats.append(ccdproc.CCDData(flat.data, meta=meta, unit=\"adu\"))"
   ]
  },
  {
   "cell_type": "markdown",
   "metadata": {},
   "source": [
    "Now subtract overscan and trim"
   ]
  },
  {
   "cell_type": "code",
   "execution_count": null,
   "metadata": {
    "collapsed": true
   },
   "outputs": [],
   "source": [
    "oscan_and_trim(flats)"
   ]
  },
  {
   "cell_type": "markdown",
   "metadata": {},
   "source": [
    "Correct for bias"
   ]
  },
  {
   "cell_type": "code",
   "execution_count": null,
   "metadata": {
    "collapsed": false
   },
   "outputs": [],
   "source": [
    "for i,flat in enumerate(flats):\n",
    "    flats[i] = ccdproc.subtract_bias(flat, master_bias)"
   ]
  },
  {
   "cell_type": "markdown",
   "metadata": {},
   "source": [
    "Combine flats with sigma clipping"
   ]
  },
  {
   "cell_type": "code",
   "execution_count": null,
   "metadata": {
    "collapsed": true
   },
   "outputs": [],
   "source": [
    "flat_combiner = ccdproc.Combiner(flats)"
   ]
  },
  {
   "cell_type": "code",
   "execution_count": null,
   "metadata": {
    "collapsed": false
   },
   "outputs": [],
   "source": [
    "# flat_combiner.sigma_clipping(func=med_over_images)\n",
    "flat_combiner.sigma_clipping(func=lambda x,axis: np.nanmedian(x,axis))"
   ]
  },
  {
   "cell_type": "code",
   "execution_count": null,
   "metadata": {
    "collapsed": true
   },
   "outputs": [],
   "source": [
    "master_flat = flat_combiner.median_combine()"
   ]
  },
  {
   "cell_type": "code",
   "execution_count": null,
   "metadata": {
    "collapsed": false
   },
   "outputs": [],
   "source": [
    "flat_mean = np.mean(master_flat.data)\n",
    "flat_std = np.std(master_flat.data)\n",
    "\n",
    "pl.figure(figsize=(15, 15))\n",
    "pl.imshow(master_flat, vmax=flat_mean + 5*flat_std, vmin=flat_mean - 4*flat_std, cmap='Greys_r')"
   ]
  },
  {
   "cell_type": "code",
   "execution_count": null,
   "metadata": {
    "collapsed": true
   },
   "outputs": [],
   "source": [
    "master_flat_e = ccdproc.gain_correct(master_flat, gain=gain)"
   ]
  },
  {
   "cell_type": "code",
   "execution_count": null,
   "metadata": {
    "collapsed": false
   },
   "outputs": [],
   "source": [
    "obj_img = ccdproc.CCDData.read(\"/Users/adrian/projects/triand-rrlyrae/data/mdm-fall-2015/n1/m110315.0036.fit\", \n",
    "                               unit=u.adu)\n",
    "obj_img = [obj_img]\n",
    "\n",
    "oscan_and_trim(obj_img)\n",
    "obj_img = obj_img[0]"
   ]
  },
  {
   "cell_type": "code",
   "execution_count": null,
   "metadata": {
    "collapsed": false
   },
   "outputs": [],
   "source": [
    "obj_img = ccdproc.subtract_bias(obj_img, master_bias)"
   ]
  },
  {
   "cell_type": "code",
   "execution_count": null,
   "metadata": {
    "collapsed": false
   },
   "outputs": [],
   "source": [
    "obj_img_corr = ccdproc.flat_correct(obj_img, master_flat)"
   ]
  },
  {
   "cell_type": "code",
   "execution_count": null,
   "metadata": {
    "collapsed": false
   },
   "outputs": [],
   "source": [
    "d = obj_img_corr\n",
    "\n",
    "_mean = np.mean(d.data)\n",
    "_std = np.std(d.data)\n",
    "\n",
    "pl.figure(figsize=(15, 15))\n",
    "pl.imshow(d, vmax=_mean + 5*_std, vmin=_mean - 5*_std, cmap='Greys_r')"
   ]
  },
  {
   "cell_type": "code",
   "execution_count": null,
   "metadata": {
    "collapsed": false
   },
   "outputs": [],
   "source": [
    "from scipy.signal import medfilt2d\n",
    "\n",
    "d = medfilt2d(obj_img_corr.data, kernel_size=(3,3))\n",
    "\n",
    "_mean = np.mean(d.data)\n",
    "_std = np.std(d.data)\n",
    "\n",
    "pl.figure(figsize=(15, 15))\n",
    "pl.imshow(d, vmax=_mean + 5*_std, vmin=_mean - 5*_std, cmap='Greys_r')"
   ]
  },
  {
   "cell_type": "code",
   "execution_count": null,
   "metadata": {
    "collapsed": true
   },
   "outputs": [],
   "source": [
    "sub_d = d[:,50:100]"
   ]
  },
  {
   "cell_type": "code",
   "execution_count": null,
   "metadata": {
    "collapsed": false
   },
   "outputs": [],
   "source": [
    "x = np.arange(sub_d.shape[1])\n",
    "pl.plot(sub_d[1024], marker=None, drawstyle='steps')\n",
    "pl.axvline(x[sub_d[1024].argmax()])\n",
    "pl.axvline(x[sub_d[1024].argmax()-7], alpha=0.4)\n",
    "pl.axvline(x[sub_d[1024].argmax()+7], alpha=0.4)"
   ]
  },
  {
   "cell_type": "code",
   "execution_count": null,
   "metadata": {
    "collapsed": false
   },
   "outputs": [],
   "source": [
    "amps = np.zeros(sub_d.shape[0])\n",
    "for i,row in enumerate(sub_d):\n",
    "    sky = np.median(row)\n",
    "    idx = row.argmax()\n",
    "    amps[i] = (row[idx-7:idx+7] - sky).sum()"
   ]
  },
  {
   "cell_type": "code",
   "execution_count": null,
   "metadata": {
    "collapsed": false
   },
   "outputs": [],
   "source": [
    "pl.figure(figsize=(12,8))\n",
    "pl.plot(amps, marker=None, drawstyle='steps')\n",
    "pl.xlim(1700, 1000)"
   ]
  },
  {
   "cell_type": "code",
   "execution_count": null,
   "metadata": {
    "collapsed": true
   },
   "outputs": [],
   "source": []
  }
 ],
 "metadata": {
  "kernelspec": {
   "display_name": "Python 2",
   "language": "python",
   "name": "python2"
  },
  "language_info": {
   "codemirror_mode": {
    "name": "ipython",
    "version": 2
   },
   "file_extension": ".py",
   "mimetype": "text/x-python",
   "name": "python",
   "nbconvert_exporter": "python",
   "pygments_lexer": "ipython2",
   "version": "2.7.10"
  }
 },
 "nbformat": 4,
 "nbformat_minor": 0
}